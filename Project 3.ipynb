{
 "cells": [
  {
   "cell_type": "markdown",
   "id": "0c923470",
   "metadata": {},
   "source": [
    "# Preamble:"
   ]
  },
  {
   "cell_type": "markdown",
   "id": "da5e207f",
   "metadata": {},
   "source": [
    "CS390Z - Introduction to Data Mining - Fall 2021\n",
    "\n",
    "Instructor: Thyago Mota\n",
    "\n",
    "Description: Program 03\n",
    "\n",
    "Author: Brandon Young\n",
    "\n",
    "Description: This program is meant to ...!"
   ]
  },
  {
   "cell_type": "markdown",
   "id": "af7b32cf",
   "metadata": {},
   "source": [
    "# Introduction:"
   ]
  },
  {
   "cell_type": "markdown",
   "id": "0bdda155",
   "metadata": {},
   "source": [
    "More Words"
   ]
  },
  {
   "cell_type": "code",
   "execution_count": 5,
   "id": "c96b65fc",
   "metadata": {},
   "outputs": [
    {
     "name": "stdout",
     "output_type": "stream",
     "text": [
      "okay, this works\n"
     ]
    }
   ],
   "source": [
    "from bs4 import BeautifulSoup\n",
    "import pandas as pd\n",
    "import csv, os, math, sys, re, random\n",
    "import matplotlib.pyplot as plt\n",
    "from sklearn import tree\n",
    "from sklearn.tree import DecisionTreeClassifier, export_text\n",
    "from sklearn.metrics import accuracy_score\n",
    "from sklearn.model_selection import train_test_split\n",
    "from sklearn.metrics import classification_report, confusion_matrix\n",
    "from sklearn import metrics\n",
    "from sklearn.naive_bayes import GaussianNB\n",
    "from sklearn import preprocessing\n",
    "from sklearn.neural_network import MLPClassifier\n",
    "from sklearn.linear_model import LogisticRegression\n",
    "\n",
    "print(\"okay, this works\")"
   ]
  },
  {
   "cell_type": "markdown",
   "id": "ccda9fdd",
   "metadata": {},
   "source": [
    "# Dataset:"
   ]
  },
  {
   "cell_type": "markdown",
   "id": "2c0440cc",
   "metadata": {},
   "source": [
    "More words"
   ]
  },
  {
   "cell_type": "markdown",
   "id": "3e296378",
   "metadata": {},
   "source": [
    "# Development:"
   ]
  },
  {
   "cell_type": "markdown",
   "id": "460dddca",
   "metadata": {},
   "source": [
    "Words!"
   ]
  },
  {
   "cell_type": "markdown",
   "id": "fc6d99c4",
   "metadata": {},
   "source": [
    "### Data Scraping:"
   ]
  },
  {
   "cell_type": "code",
   "execution_count": null,
   "id": "50effec3",
   "metadata": {},
   "outputs": [],
   "source": [
    "#"
   ]
  },
  {
   "cell_type": "markdown",
   "id": "5b677405",
   "metadata": {},
   "source": [
    "### Summary Statistics:"
   ]
  },
  {
   "cell_type": "code",
   "execution_count": null,
   "id": "cbece404",
   "metadata": {},
   "outputs": [],
   "source": []
  },
  {
   "cell_type": "markdown",
   "id": "523959ee",
   "metadata": {},
   "source": [
    "### Data Visualization:"
   ]
  },
  {
   "cell_type": "code",
   "execution_count": null,
   "id": "1ba0cd44",
   "metadata": {},
   "outputs": [],
   "source": []
  },
  {
   "cell_type": "markdown",
   "id": "1a397eed",
   "metadata": {},
   "source": [
    "### Regression:"
   ]
  },
  {
   "cell_type": "code",
   "execution_count": null,
   "id": "f1fbe811",
   "metadata": {},
   "outputs": [],
   "source": []
  },
  {
   "cell_type": "markdown",
   "id": "49a81e46",
   "metadata": {},
   "source": [
    "### Classification:"
   ]
  },
  {
   "cell_type": "code",
   "execution_count": null,
   "id": "9082db3a",
   "metadata": {},
   "outputs": [],
   "source": []
  },
  {
   "cell_type": "markdown",
   "id": "6e63d605",
   "metadata": {},
   "source": [
    "# Conclusion:"
   ]
  },
  {
   "cell_type": "markdown",
   "id": "e48e678f",
   "metadata": {},
   "source": [
    "Even more words!!!!"
   ]
  },
  {
   "cell_type": "code",
   "execution_count": null,
   "id": "0b68f089",
   "metadata": {},
   "outputs": [],
   "source": []
  }
 ],
 "metadata": {
  "kernelspec": {
   "display_name": "Python 3 (ipykernel)",
   "language": "python",
   "name": "python3"
  },
  "language_info": {
   "codemirror_mode": {
    "name": "ipython",
    "version": 3
   },
   "file_extension": ".py",
   "mimetype": "text/x-python",
   "name": "python",
   "nbconvert_exporter": "python",
   "pygments_lexer": "ipython3",
   "version": "3.9.5"
  }
 },
 "nbformat": 4,
 "nbformat_minor": 5
}
